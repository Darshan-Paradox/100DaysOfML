{
 "cells": [
  {
   "cell_type": "code",
   "execution_count": 83,
   "id": "5edc15a1-0c0f-477f-b0b1-b84f03c5e430",
   "metadata": {},
   "outputs": [],
   "source": [
    "import pandas as pd\n",
    "import numpy as np"
   ]
  },
  {
   "cell_type": "markdown",
   "id": "ac7673e3-e315-4472-9225-9854cf311872",
   "metadata": {},
   "source": [
    "## Data preprocessing"
   ]
  },
  {
   "cell_type": "code",
   "execution_count": 118,
   "id": "7075e81c-95c8-4278-a404-89ef71181ebd",
   "metadata": {},
   "outputs": [],
   "source": [
    "df = pd.read_csv(\"./placement.csv\")"
   ]
  },
  {
   "cell_type": "code",
   "execution_count": 119,
   "id": "7788634e-44e8-42e8-9cb6-4e0cf6f65da0",
   "metadata": {},
   "outputs": [
    {
     "data": {
      "text/html": [
       "<div>\n",
       "<style scoped>\n",
       "    .dataframe tbody tr th:only-of-type {\n",
       "        vertical-align: middle;\n",
       "    }\n",
       "\n",
       "    .dataframe tbody tr th {\n",
       "        vertical-align: top;\n",
       "    }\n",
       "\n",
       "    .dataframe thead th {\n",
       "        text-align: right;\n",
       "    }\n",
       "</style>\n",
       "<table border=\"1\" class=\"dataframe\">\n",
       "  <thead>\n",
       "    <tr style=\"text-align: right;\">\n",
       "      <th></th>\n",
       "      <th>cgpa</th>\n",
       "      <th>placement_exam_marks</th>\n",
       "      <th>placed</th>\n",
       "    </tr>\n",
       "  </thead>\n",
       "  <tbody>\n",
       "    <tr>\n",
       "      <th>0</th>\n",
       "      <td>7.19</td>\n",
       "      <td>26.0</td>\n",
       "      <td>1</td>\n",
       "    </tr>\n",
       "    <tr>\n",
       "      <th>1</th>\n",
       "      <td>7.46</td>\n",
       "      <td>38.0</td>\n",
       "      <td>1</td>\n",
       "    </tr>\n",
       "    <tr>\n",
       "      <th>2</th>\n",
       "      <td>7.54</td>\n",
       "      <td>40.0</td>\n",
       "      <td>1</td>\n",
       "    </tr>\n",
       "    <tr>\n",
       "      <th>3</th>\n",
       "      <td>6.42</td>\n",
       "      <td>8.0</td>\n",
       "      <td>1</td>\n",
       "    </tr>\n",
       "    <tr>\n",
       "      <th>4</th>\n",
       "      <td>7.23</td>\n",
       "      <td>17.0</td>\n",
       "      <td>0</td>\n",
       "    </tr>\n",
       "  </tbody>\n",
       "</table>\n",
       "</div>"
      ],
      "text/plain": [
       "   cgpa  placement_exam_marks  placed\n",
       "0  7.19                  26.0       1\n",
       "1  7.46                  38.0       1\n",
       "2  7.54                  40.0       1\n",
       "3  6.42                   8.0       1\n",
       "4  7.23                  17.0       0"
      ]
     },
     "execution_count": 119,
     "metadata": {},
     "output_type": "execute_result"
    }
   ],
   "source": [
    "df.head()"
   ]
  },
  {
   "cell_type": "code",
   "execution_count": 120,
   "id": "91ac6a7b-d8dd-448f-baf5-7de96b04bc65",
   "metadata": {},
   "outputs": [
    {
     "data": {
      "text/plain": [
       "<AxesSubplot:xlabel='cgpa', ylabel='placement_exam_marks'>"
      ]
     },
     "execution_count": 120,
     "metadata": {},
     "output_type": "execute_result"
    },
    {
     "data": {
      "image/png": "[encoded data removed]",
      "text/plain": [
       "<Figure size 432x288 with 1 Axes>"
      ]
     },
     "metadata": {
      "needs_background": "light"
     },
     "output_type": "display_data"
    }
   ],
   "source": [
    "df.plot.scatter(x=\"cgpa\", y=\"placement_exam_marks\")"
   ]
  },
  {
   "cell_type": "code",
   "execution_count": 121,
   "id": "071872ea-cbea-45b4-ac3e-6f6f9911cda0",
   "metadata": {},
   "outputs": [
    {
     "data": {
      "text/html": [
       "<div>\n",
       "<style scoped>\n",
       "    .dataframe tbody tr th:only-of-type {\n",
       "        vertical-align: middle;\n",
       "    }\n",
       "\n",
       "    .dataframe tbody tr th {\n",
       "        vertical-align: top;\n",
       "    }\n",
       "\n",
       "    .dataframe thead th {\n",
       "        text-align: right;\n",
       "    }\n",
       "</style>\n",
       "<table border=\"1\" class=\"dataframe\">\n",
       "  <thead>\n",
       "    <tr style=\"text-align: right;\">\n",
       "      <th></th>\n",
       "      <th>cgpa</th>\n",
       "      <th>placement_exam_marks</th>\n",
       "      <th>placed</th>\n",
       "    </tr>\n",
       "  </thead>\n",
       "  <tbody>\n",
       "    <tr>\n",
       "      <th>917</th>\n",
       "      <td>5.95</td>\n",
       "      <td>100.0</td>\n",
       "      <td>0</td>\n",
       "    </tr>\n",
       "    <tr>\n",
       "      <th>846</th>\n",
       "      <td>6.99</td>\n",
       "      <td>97.0</td>\n",
       "      <td>0</td>\n",
       "    </tr>\n",
       "    <tr>\n",
       "      <th>630</th>\n",
       "      <td>6.56</td>\n",
       "      <td>96.0</td>\n",
       "      <td>1</td>\n",
       "    </tr>\n",
       "    <tr>\n",
       "      <th>9</th>\n",
       "      <td>7.75</td>\n",
       "      <td>94.0</td>\n",
       "      <td>1</td>\n",
       "    </tr>\n",
       "    <tr>\n",
       "      <th>134</th>\n",
       "      <td>6.33</td>\n",
       "      <td>93.0</td>\n",
       "      <td>0</td>\n",
       "    </tr>\n",
       "    <tr>\n",
       "      <th>...</th>\n",
       "      <td>...</td>\n",
       "      <td>...</td>\n",
       "      <td>...</td>\n",
       "    </tr>\n",
       "    <tr>\n",
       "      <th>74</th>\n",
       "      <td>6.16</td>\n",
       "      <td>3.0</td>\n",
       "      <td>1</td>\n",
       "    </tr>\n",
       "    <tr>\n",
       "      <th>701</th>\n",
       "      <td>6.74</td>\n",
       "      <td>2.0</td>\n",
       "      <td>1</td>\n",
       "    </tr>\n",
       "    <tr>\n",
       "      <th>863</th>\n",
       "      <td>8.04</td>\n",
       "      <td>2.0</td>\n",
       "      <td>1</td>\n",
       "    </tr>\n",
       "    <tr>\n",
       "      <th>943</th>\n",
       "      <td>7.36</td>\n",
       "      <td>2.0</td>\n",
       "      <td>0</td>\n",
       "    </tr>\n",
       "    <tr>\n",
       "      <th>117</th>\n",
       "      <td>7.11</td>\n",
       "      <td>0.0</td>\n",
       "      <td>1</td>\n",
       "    </tr>\n",
       "  </tbody>\n",
       "</table>\n",
       "<p>1000 rows × 3 columns</p>\n",
       "</div>"
      ],
      "text/plain": [
       "     cgpa  placement_exam_marks  placed\n",
       "917  5.95                 100.0       0\n",
       "846  6.99                  97.0       0\n",
       "630  6.56                  96.0       1\n",
       "9    7.75                  94.0       1\n",
       "134  6.33                  93.0       0\n",
       "..    ...                   ...     ...\n",
       "74   6.16                   3.0       1\n",
       "701  6.74                   2.0       1\n",
       "863  8.04                   2.0       1\n",
       "943  7.36                   2.0       0\n",
       "117  7.11                   0.0       1\n",
       "\n",
       "[1000 rows x 3 columns]"
      ]
     },
     "execution_count": 121,
     "metadata": {},
     "output_type": "execute_result"
    }
   ],
   "source": [
    "df.sort_values(by=\"placement_exam_marks\", ascending=False)"
   ]
  },
  {
   "cell_type": "code",
   "execution_count": 122,
   "id": "94d5593a-4b8c-4ce7-a0e4-582030ebd5bf",
   "metadata": {},
   "outputs": [],
   "source": [
    "df.drop(columns=[\"placed\"], inplace=True)"
   ]
  },
  {
   "cell_type": "code",
   "execution_count": 123,
   "id": "939e781d-d464-482c-941b-6ffdad9b6fa5",
   "metadata": {},
   "outputs": [
    {
     "data": {
      "text/html": [
       "<div>\n",
       "<style scoped>\n",
       "    .dataframe tbody tr th:only-of-type {\n",
       "        vertical-align: middle;\n",
       "    }\n",
       "\n",
       "    .dataframe tbody tr th {\n",
       "        vertical-align: top;\n",
       "    }\n",
       "\n",
       "    .dataframe thead th {\n",
       "        text-align: right;\n",
       "    }\n",
       "</style>\n",
       "<table border=\"1\" class=\"dataframe\">\n",
       "  <thead>\n",
       "    <tr style=\"text-align: right;\">\n",
       "      <th></th>\n",
       "      <th>cgpa</th>\n",
       "      <th>placement_exam_marks</th>\n",
       "    </tr>\n",
       "  </thead>\n",
       "  <tbody>\n",
       "    <tr>\n",
       "      <th>0</th>\n",
       "      <td>7.19</td>\n",
       "      <td>26.0</td>\n",
       "    </tr>\n",
       "    <tr>\n",
       "      <th>1</th>\n",
       "      <td>7.46</td>\n",
       "      <td>38.0</td>\n",
       "    </tr>\n",
       "    <tr>\n",
       "      <th>2</th>\n",
       "      <td>7.54</td>\n",
       "      <td>40.0</td>\n",
       "    </tr>\n",
       "    <tr>\n",
       "      <th>3</th>\n",
       "      <td>6.42</td>\n",
       "      <td>8.0</td>\n",
       "    </tr>\n",
       "    <tr>\n",
       "      <th>4</th>\n",
       "      <td>7.23</td>\n",
       "      <td>17.0</td>\n",
       "    </tr>\n",
       "  </tbody>\n",
       "</table>\n",
       "</div>"
      ],
      "text/plain": [
       "   cgpa  placement_exam_marks\n",
       "0  7.19                  26.0\n",
       "1  7.46                  38.0\n",
       "2  7.54                  40.0\n",
       "3  6.42                   8.0\n",
       "4  7.23                  17.0"
      ]
     },
     "execution_count": 123,
     "metadata": {},
     "output_type": "execute_result"
    }
   ],
   "source": [
    "df.head()"
   ]
  },
  {
   "cell_type": "markdown",
   "id": "878b7e45-d187-42fe-9db6-c45c64953e35",
   "metadata": {},
   "source": [
    "## Spliting data"
   ]
  },
  {
   "cell_type": "code",
   "execution_count": 124,
   "id": "ba5f1c84-df56-450c-9fe0-2fa16806b377",
   "metadata": {},
   "outputs": [],
   "source": [
    "train = df.sample(frac=0.7, random_state=1)"
   ]
  },
  {
   "cell_type": "code",
   "execution_count": 125,
   "id": "ff65dd16-7079-4df5-9d61-a1ab2b68d633",
   "metadata": {},
   "outputs": [],
   "source": [
    "test = df.drop(train.index)"
   ]
  },
  {
   "cell_type": "markdown",
   "id": "c4ecf757-407f-4314-b2eb-89bc98e8b8c3",
   "metadata": {},
   "source": [
    "# Linear Regression\n",
    "- Using formula\n",
    "\n",
    "$$m\\  (slope) = \\cfrac{(\\Sigma y)(\\Sigma x^2) - (\\Sigma x)(\\Sigma xy)}{n(\\Sigma x^2) - (\\Sigma x)^2}$$\n",
    "\n",
    "$$c \\ \\ (intercept) = \\cfrac{n(\\Sigma xy) - (\\Sigma x)(\\Sigma y)}{n(\\Sigma x^2) - (\\Sigma x)^2}$$"
   ]
  },
  {
   "cell_type": "code",
   "execution_count": 126,
   "id": "e11cced8-a4e5-448f-9c79-269115b5e501",
   "metadata": {},
   "outputs": [],
   "source": [
    "# Here x is CGPA and y is LPA\n",
    "X = train.cgpa.to_numpy()\n",
    "Y = train.placement_exam_marks.to_numpy()"
   ]
  },
  {
   "cell_type": "code",
   "execution_count": 127,
   "id": "ba8d5ff7-bd53-42dc-b378-0f0c45312b3b",
   "metadata": {},
   "outputs": [],
   "source": [
    "m = (np.sum(Y)*np.sum(X**2) - np.sum(X)*np.sum(X*Y))/(len(X)*np.sum(X**2) - (np.sum(X))**2)"
   ]
  },
  {
   "cell_type": "code",
   "execution_count": 128,
   "id": "a840e562-6d8e-46a0-a923-5450511c85c8",
   "metadata": {},
   "outputs": [],
   "source": [
    "c = (len(X)*np.sum(X*Y) - np.sum(X)*np.sum(Y))/(len(X)*np.sum(X**2) - (np.sum(X))**2)"
   ]
  },
  {
   "cell_type": "code",
   "execution_count": 129,
   "id": "4a113a89-efc0-4edd-8315-bcda5cf876c8",
   "metadata": {},
   "outputs": [
    {
     "name": "stdout",
     "output_type": "stream",
     "text": [
      "-1.5084801735559032 x + 42.770412022137315 = y\n"
     ]
    }
   ],
   "source": [
    "print(f\"{c} x + {m} = y\")"
   ]
  },
  {
   "cell_type": "code",
   "execution_count": 130,
   "id": "1b0c70bb-10ca-422b-ae34-9ae61aaa5cb0",
   "metadata": {},
   "outputs": [],
   "source": [
    "test[\"pred\"] = test.cgpa * c + m"
   ]
  },
  {
   "cell_type": "code",
   "execution_count": 131,
   "id": "7373ee36-5b78-4a6c-936c-0b11a461d9fe",
   "metadata": {},
   "outputs": [
    {
     "data": {
      "text/html": [
       "<div>\n",
       "<style scoped>\n",
       "    .dataframe tbody tr th:only-of-type {\n",
       "        vertical-align: middle;\n",
       "    }\n",
       "\n",
       "    .dataframe tbody tr th {\n",
       "        vertical-align: top;\n",
       "    }\n",
       "\n",
       "    .dataframe thead th {\n",
       "        text-align: right;\n",
       "    }\n",
       "</style>\n",
       "<table border=\"1\" class=\"dataframe\">\n",
       "  <thead>\n",
       "    <tr style=\"text-align: right;\">\n",
       "      <th></th>\n",
       "      <th>cgpa</th>\n",
       "      <th>placement_exam_marks</th>\n",
       "      <th>pred</th>\n",
       "    </tr>\n",
       "  </thead>\n",
       "  <tbody>\n",
       "    <tr>\n",
       "      <th>7</th>\n",
       "      <td>7.12</td>\n",
       "      <td>39.0</td>\n",
       "      <td>32.030033</td>\n",
       "    </tr>\n",
       "    <tr>\n",
       "      <th>10</th>\n",
       "      <td>6.82</td>\n",
       "      <td>16.0</td>\n",
       "      <td>32.482577</td>\n",
       "    </tr>\n",
       "    <tr>\n",
       "      <th>15</th>\n",
       "      <td>7.10</td>\n",
       "      <td>21.0</td>\n",
       "      <td>32.060203</td>\n",
       "    </tr>\n",
       "    <tr>\n",
       "      <th>20</th>\n",
       "      <td>6.69</td>\n",
       "      <td>47.0</td>\n",
       "      <td>32.678680</td>\n",
       "    </tr>\n",
       "    <tr>\n",
       "      <th>21</th>\n",
       "      <td>7.43</td>\n",
       "      <td>33.0</td>\n",
       "      <td>31.562404</td>\n",
       "    </tr>\n",
       "  </tbody>\n",
       "</table>\n",
       "</div>"
      ],
      "text/plain": [
       "    cgpa  placement_exam_marks       pred\n",
       "7   7.12                  39.0  32.030033\n",
       "10  6.82                  16.0  32.482577\n",
       "15  7.10                  21.0  32.060203\n",
       "20  6.69                  47.0  32.678680\n",
       "21  7.43                  33.0  31.562404"
      ]
     },
     "execution_count": 131,
     "metadata": {},
     "output_type": "execute_result"
    }
   ],
   "source": [
    "test.head()"
   ]
  },
  {
   "cell_type": "code",
   "execution_count": 132,
   "id": "fabbca2b-df8b-4985-b855-2b566bde0cd6",
   "metadata": {},
   "outputs": [],
   "source": [
    "test[\"err\"] = test.pred - test.placement_exam_marks"
   ]
  },
  {
   "cell_type": "code",
   "execution_count": 133,
   "id": "ee379d76-c576-46a3-b886-01926d2d0680",
   "metadata": {},
   "outputs": [
    {
     "data": {
      "text/html": [
       "<div>\n",
       "<style scoped>\n",
       "    .dataframe tbody tr th:only-of-type {\n",
       "        vertical-align: middle;\n",
       "    }\n",
       "\n",
       "    .dataframe tbody tr th {\n",
       "        vertical-align: top;\n",
       "    }\n",
       "\n",
       "    .dataframe thead th {\n",
       "        text-align: right;\n",
       "    }\n",
       "</style>\n",
       "<table border=\"1\" class=\"dataframe\">\n",
       "  <thead>\n",
       "    <tr style=\"text-align: right;\">\n",
       "      <th></th>\n",
       "      <th>cgpa</th>\n",
       "      <th>placement_exam_marks</th>\n",
       "      <th>pred</th>\n",
       "      <th>err</th>\n",
       "    </tr>\n",
       "  </thead>\n",
       "  <tbody>\n",
       "    <tr>\n",
       "      <th>7</th>\n",
       "      <td>7.12</td>\n",
       "      <td>39.0</td>\n",
       "      <td>32.030033</td>\n",
       "      <td>-6.969967</td>\n",
       "    </tr>\n",
       "    <tr>\n",
       "      <th>10</th>\n",
       "      <td>6.82</td>\n",
       "      <td>16.0</td>\n",
       "      <td>32.482577</td>\n",
       "      <td>16.482577</td>\n",
       "    </tr>\n",
       "    <tr>\n",
       "      <th>15</th>\n",
       "      <td>7.10</td>\n",
       "      <td>21.0</td>\n",
       "      <td>32.060203</td>\n",
       "      <td>11.060203</td>\n",
       "    </tr>\n",
       "    <tr>\n",
       "      <th>20</th>\n",
       "      <td>6.69</td>\n",
       "      <td>47.0</td>\n",
       "      <td>32.678680</td>\n",
       "      <td>-14.321320</td>\n",
       "    </tr>\n",
       "    <tr>\n",
       "      <th>21</th>\n",
       "      <td>7.43</td>\n",
       "      <td>33.0</td>\n",
       "      <td>31.562404</td>\n",
       "      <td>-1.437596</td>\n",
       "    </tr>\n",
       "  </tbody>\n",
       "</table>\n",
       "</div>"
      ],
      "text/plain": [
       "    cgpa  placement_exam_marks       pred        err\n",
       "7   7.12                  39.0  32.030033  -6.969967\n",
       "10  6.82                  16.0  32.482577  16.482577\n",
       "15  7.10                  21.0  32.060203  11.060203\n",
       "20  6.69                  47.0  32.678680 -14.321320\n",
       "21  7.43                  33.0  31.562404  -1.437596"
      ]
     },
     "execution_count": 133,
     "metadata": {},
     "output_type": "execute_result"
    }
   ],
   "source": [
    "test.head()"
   ]
  },
  {
   "cell_type": "code",
   "execution_count": 134,
   "id": "031468fa-cd19-46c3-ad9c-45fc3bcdaccb",
   "metadata": {},
   "outputs": [
    {
     "data": {
      "text/plain": [
       "14.839832924188471"
      ]
     },
     "execution_count": 134,
     "metadata": {},
     "output_type": "execute_result"
    }
   ],
   "source": [
    "test.err.mean()*100"
   ]
  },
  {
   "cell_type": "code",
   "execution_count": 135,
   "id": "1eb04fe3-17d9-4017-b552-94946020db5b",
   "metadata": {},
   "outputs": [
    {
     "data": {
      "text/plain": [
       "1861.1787555098076"
      ]
     },
     "execution_count": 135,
     "metadata": {},
     "output_type": "execute_result"
    }
   ],
   "source": [
    "np.sqrt(np.mean((test.err.to_numpy())**2))*100"
   ]
  },
  {
   "cell_type": "code",
   "execution_count": 136,
   "id": "9717405f-af79-48f4-a7e4-fa000e3b542d",
   "metadata": {},
   "outputs": [
    {
     "data": {
      "text/plain": [
       "<AxesSubplot:xlabel='cgpa', ylabel='placement_exam_marks'>"
      ]
     },
     "execution_count": 136,
     "metadata": {},
     "output_type": "execute_result"
    },
    {
     "data": {
      "image/png": "[encoded data removed]",
      "text/plain": [
       "<Figure size 432x288 with 1 Axes>"
      ]
     },
     "metadata": {
      "needs_background": "light"
     },
     "output_type": "display_data"
    }
   ],
   "source": [
    "test.plot.scatter(x=\"cgpa\", y=\"placement_exam_marks\")"
   ]
  },
  {
   "cell_type": "code",
   "execution_count": 137,
   "id": "55a3d01b-befb-4710-af0b-e610ca30809d",
   "metadata": {},
   "outputs": [
    {
     "data": {
      "text/plain": [
       "<AxesSubplot:xlabel='cgpa', ylabel='pred'>"
      ]
     },
     "execution_count": 137,
     "metadata": {},
     "output_type": "execute_result"
    },
    {
     "data": {
      "image/png": "[encoded data removed]",
      "text/plain": [
       "<Figure size 432x288 with 1 Axes>"
      ]
     },
     "metadata": {
      "needs_background": "light"
     },
     "output_type": "display_data"
    }
   ],
   "source": [
    "test.plot.scatter(x=\"cgpa\", y=\"pred\")"
   ]
  },
  {
   "cell_type": "code",
   "execution_count": 142,
   "id": "df0300d2-f8a0-496c-b105-37ef13679faa",
   "metadata": {},
   "outputs": [
    {
     "data": {
      "text/plain": [
       "<AxesSubplot:xlabel='cgpa'>"
      ]
     },
     "execution_count": 142,
     "metadata": {},
     "output_type": "execute_result"
    },
    {
     "data": {
      "image/png": "[encoded data removed]",
      "text/plain": [
       "<Figure size 432x288 with 1 Axes>"
      ]
     },
     "metadata": {
      "needs_background": "light"
     },
     "output_type": "display_data"
    }
   ],
   "source": [
    "(test.set_index(\"cgpa\"))[[\"placement_exam_marks\", \"pred\"]].plot()"
   ]
  },
  {
   "cell_type": "markdown",
   "id": "5a562047-ade3-46bb-9e99-9645f197dacf",
   "metadata": {},
   "source": [
    "## Dummy Data"
   ]
  },
  {
   "cell_type": "code",
   "execution_count": 104,
   "id": "6bf45825-5c47-4474-a879-69a7966c3c6c",
   "metadata": {},
   "outputs": [
    {
     "data": {
      "text/html": [
       "<div>\n",
       "<style scoped>\n",
       "    .dataframe tbody tr th:only-of-type {\n",
       "        vertical-align: middle;\n",
       "    }\n",
       "\n",
       "    .dataframe tbody tr th {\n",
       "        vertical-align: top;\n",
       "    }\n",
       "\n",
       "    .dataframe thead th {\n",
       "        text-align: right;\n",
       "    }\n",
       "</style>\n",
       "<table border=\"1\" class=\"dataframe\">\n",
       "  <thead>\n",
       "    <tr style=\"text-align: right;\">\n",
       "      <th></th>\n",
       "      <th>Unnamed: 0</th>\n",
       "      <th>x</th>\n",
       "      <th>y</th>\n",
       "    </tr>\n",
       "  </thead>\n",
       "  <tbody>\n",
       "    <tr>\n",
       "      <th>0</th>\n",
       "      <td>0</td>\n",
       "      <td>0.000000</td>\n",
       "      <td>-3.951550</td>\n",
       "    </tr>\n",
       "    <tr>\n",
       "      <th>1</th>\n",
       "      <td>1</td>\n",
       "      <td>0.291291</td>\n",
       "      <td>-2.728507</td>\n",
       "    </tr>\n",
       "    <tr>\n",
       "      <th>2</th>\n",
       "      <td>2</td>\n",
       "      <td>0.582583</td>\n",
       "      <td>-2.357441</td>\n",
       "    </tr>\n",
       "    <tr>\n",
       "      <th>3</th>\n",
       "      <td>3</td>\n",
       "      <td>0.873874</td>\n",
       "      <td>-1.327898</td>\n",
       "    </tr>\n",
       "    <tr>\n",
       "      <th>4</th>\n",
       "      <td>4</td>\n",
       "      <td>1.165165</td>\n",
       "      <td>-0.858028</td>\n",
       "    </tr>\n",
       "  </tbody>\n",
       "</table>\n",
       "</div>"
      ],
      "text/plain": [
       "   Unnamed: 0         x         y\n",
       "0           0  0.000000 -3.951550\n",
       "1           1  0.291291 -2.728507\n",
       "2           2  0.582583 -2.357441\n",
       "3           3  0.873874 -1.327898\n",
       "4           4  1.165165 -0.858028"
      ]
     },
     "execution_count": 104,
     "metadata": {},
     "output_type": "execute_result"
    }
   ],
   "source": [
    "df = pd.read_csv(\"./dummy_data.csv\")\n",
    "df.head()"
   ]
  },
  {
   "cell_type": "code",
   "execution_count": 105,
   "id": "aee754e9-ce5f-45b7-b82f-ba3d828757b3",
   "metadata": {},
   "outputs": [],
   "source": [
    "df.drop(columns=[\"Unnamed: 0\"], inplace=True)"
   ]
  },
  {
   "cell_type": "code",
   "execution_count": 106,
   "id": "677a2dc3-47d2-4b1f-b427-a9e230769b33",
   "metadata": {},
   "outputs": [
    {
     "data": {
      "text/plain": [
       "<AxesSubplot:xlabel='x', ylabel='y'>"
      ]
     },
     "execution_count": 106,
     "metadata": {},
     "output_type": "execute_result"
    },
    {
     "data": {
      "image/png": "[encoded data removed]",
      "text/plain": [
       "<Figure size 432x288 with 1 Axes>"
      ]
     },
     "metadata": {
      "needs_background": "light"
     },
     "output_type": "display_data"
    }
   ],
   "source": [
    "df.plot.scatter(x=\"x\", y=\"y\")"
   ]
  },
  {
   "cell_type": "code",
   "execution_count": 107,
   "id": "237d7033-a516-4070-b545-27d1ab7c05f9",
   "metadata": {},
   "outputs": [],
   "source": [
    "train = df.sample(frac=0.7, random_state=1)"
   ]
  },
  {
   "cell_type": "code",
   "execution_count": 108,
   "id": "9c5482da-596a-4b6f-a420-22b4ed745b77",
   "metadata": {},
   "outputs": [],
   "source": [
    "test = df.drop(train.index)"
   ]
  },
  {
   "cell_type": "code",
   "execution_count": 109,
   "id": "673d73c7-63bc-418b-8316-d74fd9be0f45",
   "metadata": {},
   "outputs": [],
   "source": [
    "x = train.x.to_numpy()\n",
    "y = train.y.to_numpy()"
   ]
  },
  {
   "cell_type": "code",
   "execution_count": 110,
   "id": "4d3360b1-d8f1-4b5c-b97d-08550737da3f",
   "metadata": {},
   "outputs": [],
   "source": [
    "m = (np.sum(y)*np.sum(x**2) - np.sum(x)*np.sum(x*y))/(len(x)*np.sum(x**2) - (np.sum(x))**2)"
   ]
  },
  {
   "cell_type": "code",
   "execution_count": 111,
   "id": "e37bff0c-5893-4e74-bb5b-e9b4ed4a858b",
   "metadata": {},
   "outputs": [],
   "source": [
    "c = (len(x)*np.sum(x*y) - np.sum(x)*np.sum(y))/(len(x)*np.sum(x**2) - (np.sum(x))**2)"
   ]
  },
  {
   "cell_type": "code",
   "execution_count": 112,
   "id": "fe13fda2-c5b4-482e-8971-96c73a6dfb83",
   "metadata": {},
   "outputs": [],
   "source": [
    "test[\"pred\"] = test.x * c + m"
   ]
  },
  {
   "cell_type": "code",
   "execution_count": 113,
   "id": "01288cd9-9407-408d-8ac6-e213b23ed0aa",
   "metadata": {},
   "outputs": [],
   "source": [
    "test[\"err\"] = test.pred - test.y"
   ]
  },
  {
   "cell_type": "code",
   "execution_count": 114,
   "id": "984572b0-c592-47bd-bb1f-1b3e3e4049b0",
   "metadata": {},
   "outputs": [
    {
     "data": {
      "text/html": [
       "<div>\n",
       "<style scoped>\n",
       "    .dataframe tbody tr th:only-of-type {\n",
       "        vertical-align: middle;\n",
       "    }\n",
       "\n",
       "    .dataframe tbody tr th {\n",
       "        vertical-align: top;\n",
       "    }\n",
       "\n",
       "    .dataframe thead th {\n",
       "        text-align: right;\n",
       "    }\n",
       "</style>\n",
       "<table border=\"1\" class=\"dataframe\">\n",
       "  <thead>\n",
       "    <tr style=\"text-align: right;\">\n",
       "      <th></th>\n",
       "      <th>x</th>\n",
       "      <th>y</th>\n",
       "      <th>pred</th>\n",
       "      <th>err</th>\n",
       "    </tr>\n",
       "  </thead>\n",
       "  <tbody>\n",
       "    <tr>\n",
       "      <th>7</th>\n",
       "      <td>2.039039</td>\n",
       "      <td>1.470356</td>\n",
       "      <td>1.867205</td>\n",
       "      <td>0.396848</td>\n",
       "    </tr>\n",
       "    <tr>\n",
       "      <th>10</th>\n",
       "      <td>2.912913</td>\n",
       "      <td>4.161429</td>\n",
       "      <td>4.200418</td>\n",
       "      <td>0.038988</td>\n",
       "    </tr>\n",
       "    <tr>\n",
       "      <th>15</th>\n",
       "      <td>4.369369</td>\n",
       "      <td>7.623208</td>\n",
       "      <td>8.089106</td>\n",
       "      <td>0.465898</td>\n",
       "    </tr>\n",
       "    <tr>\n",
       "      <th>20</th>\n",
       "      <td>5.825826</td>\n",
       "      <td>12.181609</td>\n",
       "      <td>11.977794</td>\n",
       "      <td>-0.203814</td>\n",
       "    </tr>\n",
       "    <tr>\n",
       "      <th>21</th>\n",
       "      <td>6.117117</td>\n",
       "      <td>12.909466</td>\n",
       "      <td>12.755532</td>\n",
       "      <td>-0.153934</td>\n",
       "    </tr>\n",
       "  </tbody>\n",
       "</table>\n",
       "</div>"
      ],
      "text/plain": [
       "           x          y       pred       err\n",
       "7   2.039039   1.470356   1.867205  0.396848\n",
       "10  2.912913   4.161429   4.200418  0.038988\n",
       "15  4.369369   7.623208   8.089106  0.465898\n",
       "20  5.825826  12.181609  11.977794 -0.203814\n",
       "21  6.117117  12.909466  12.755532 -0.153934"
      ]
     },
     "execution_count": 114,
     "metadata": {},
     "output_type": "execute_result"
    }
   ],
   "source": [
    "test.head()"
   ]
  },
  {
   "cell_type": "code",
   "execution_count": 115,
   "id": "9f5fb89d-0ad3-463e-91dd-b243ed7b26b5",
   "metadata": {},
   "outputs": [
    {
     "data": {
      "text/plain": [
       "-0.0033857169643984647"
      ]
     },
     "execution_count": 115,
     "metadata": {},
     "output_type": "execute_result"
    }
   ],
   "source": [
    "test.err.mean()"
   ]
  },
  {
   "cell_type": "code",
   "execution_count": 116,
   "id": "5c5a3480-4d20-4ec0-80e6-36bcd364b51b",
   "metadata": {},
   "outputs": [
    {
     "data": {
      "text/plain": [
       "<AxesSubplot:xlabel='x', ylabel='pred'>"
      ]
     },
     "execution_count": 116,
     "metadata": {},
     "output_type": "execute_result"
    },
    {
     "data": {
      "image/png": "[encoded data removed]",
      "text/plain": [
       "<Figure size 432x288 with 1 Axes>"
      ]
     },
     "metadata": {
      "needs_background": "light"
     },
     "output_type": "display_data"
    }
   ],
   "source": [
    "test.plot.scatter(x=\"x\", y=\"pred\")"
   ]
  },
  {
   "cell_type": "code",
   "execution_count": 117,
   "id": "4c4ff82b-eb3b-48ff-b97c-30e6a998db39",
   "metadata": {},
   "outputs": [
    {
     "data": {
      "text/plain": [
       "<AxesSubplot:xlabel='x', ylabel='y'>"
      ]
     },
     "execution_count": 117,
     "metadata": {},
     "output_type": "execute_result"
    },
    {
     "data": {
      "image/png": "[encoded data removed]",
      "text/plain": [
       "<Figure size 432x288 with 1 Axes>"
      ]
     },
     "metadata": {
      "needs_background": "light"
     },
     "output_type": "display_data"
    }
   ],
   "source": [
    "test.plot.scatter(x=\"x\", y=\"y\")"
   ]
  }
 ],
 "metadata": {
  "kernelspec": {
   "display_name": "Python 3 (ipykernel)",
   "language": "python",
   "name": "python3"
  },
  "language_info": {
   "codemirror_mode": {
    "name": "ipython",
    "version": 3
   },
   "file_extension": ".py",
   "mimetype": "text/x-python",
   "name": "python",
   "nbconvert_exporter": "python",
   "pygments_lexer": "ipython3",
   "version": "3.9.13"
  }
 },
 "nbformat": 4,
 "nbformat_minor": 5
}
