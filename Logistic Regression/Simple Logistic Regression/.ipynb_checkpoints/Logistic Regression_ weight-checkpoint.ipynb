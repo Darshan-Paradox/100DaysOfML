{
 "cells": [
  {
   "cell_type": "code",
   "execution_count": 1,
   "id": "08cacb1f-6dad-4f22-aba1-965ac8eb940c",
   "metadata": {},
   "outputs": [],
   "source": [
    "import numpy as np\n",
    "import pandas as pd\n",
    "from matplotlib import pyplot as plt"
   ]
  },
  {
   "cell_type": "code",
   "execution_count": 2,
   "id": "327e1928-5ca5-4d05-8b35-6f6e1698a949",
   "metadata": {},
   "outputs": [
    {
     "data": {
      "text/html": [
       "<div>\n",
       "<style scoped>\n",
       "    .dataframe tbody tr th:only-of-type {\n",
       "        vertical-align: middle;\n",
       "    }\n",
       "\n",
       "    .dataframe tbody tr th {\n",
       "        vertical-align: top;\n",
       "    }\n",
       "\n",
       "    .dataframe thead th {\n",
       "        text-align: right;\n",
       "    }\n",
       "</style>\n",
       "<table border=\"1\" class=\"dataframe\">\n",
       "  <thead>\n",
       "    <tr style=\"text-align: right;\">\n",
       "      <th></th>\n",
       "      <th>weight</th>\n",
       "      <th>obese</th>\n",
       "    </tr>\n",
       "  </thead>\n",
       "  <tbody>\n",
       "    <tr>\n",
       "      <th>0</th>\n",
       "      <td>45.59</td>\n",
       "      <td>0</td>\n",
       "    </tr>\n",
       "    <tr>\n",
       "      <th>1</th>\n",
       "      <td>43.76</td>\n",
       "      <td>0</td>\n",
       "    </tr>\n",
       "    <tr>\n",
       "      <th>2</th>\n",
       "      <td>47.85</td>\n",
       "      <td>0</td>\n",
       "    </tr>\n",
       "    <tr>\n",
       "      <th>3</th>\n",
       "      <td>65.91</td>\n",
       "      <td>0</td>\n",
       "    </tr>\n",
       "    <tr>\n",
       "      <th>4</th>\n",
       "      <td>46.93</td>\n",
       "      <td>0</td>\n",
       "    </tr>\n",
       "  </tbody>\n",
       "</table>\n",
       "</div>"
      ],
      "text/plain": [
       "   weight  obese\n",
       "0   45.59      0\n",
       "1   43.76      0\n",
       "2   47.85      0\n",
       "3   65.91      0\n",
       "4   46.93      0"
      ]
     },
     "execution_count": 2,
     "metadata": {},
     "output_type": "execute_result"
    }
   ],
   "source": [
    "df = pd.read_csv(\"./weight.csv\")\n",
    "df.head()"
   ]
  },
  {
   "cell_type": "code",
   "execution_count": 3,
   "id": "36acf0b1-6d53-4927-86c6-c8b7e1339b20",
   "metadata": {},
   "outputs": [
    {
     "data": {
      "text/plain": [
       "<matplotlib.collections.PathCollection at 0x1110bc910>"
      ]
     },
     "execution_count": 3,
     "metadata": {},
     "output_type": "execute_result"
    },
    {
     "data": {
      "image/png": "[encoded data removed]",
      "text/plain": [
       "<Figure size 432x288 with 1 Axes>"
      ]
     },
     "metadata": {
      "needs_background": "light"
     },
     "output_type": "display_data"
    }
   ],
   "source": [
    "plt.scatter(df[\"weight\"], df[\"obese\"])"
   ]
  },
  {
   "cell_type": "code",
   "execution_count": 4,
   "id": "f7defa87-41b0-4096-84fc-0988838efdf3",
   "metadata": {},
   "outputs": [],
   "source": [
    "df = (df - df.min())/(df.max() - df.min())"
   ]
  },
  {
   "cell_type": "code",
   "execution_count": 5,
   "id": "3f76e39e-f90f-4714-b674-90bcfe9d0777",
   "metadata": {},
   "outputs": [],
   "source": [
    "## splitting data\n",
    "train = df.sample(frac=0.7, random_state=1)\n",
    "test = df.drop(train.index)"
   ]
  },
  {
   "cell_type": "code",
   "execution_count": 6,
   "id": "370ef9c1-07e2-4ee0-95b8-54daed978fde",
   "metadata": {},
   "outputs": [],
   "source": [
    "X = train[\"weight\"].values.reshape(len(train), 1)\n",
    "Y = train[\"obese\"].values.reshape(len(train), 1)"
   ]
  },
  {
   "cell_type": "code",
   "execution_count": 7,
   "id": "6f6938fd-5390-4981-8ed0-0666e5cc3be0",
   "metadata": {},
   "outputs": [],
   "source": [
    "def sigmoid(X):\n",
    "    return 1/(1 + np.exp(-X))"
   ]
  },
  {
   "cell_type": "code",
   "execution_count": 67,
   "id": "207d8a0f-3588-4750-9c73-b181d0b3497f",
   "metadata": {},
   "outputs": [],
   "source": [
    "def grad_dscnt(X, Y, W, B, lr, iters):\n",
    "    \n",
    "    cost = []\n",
    "    \n",
    "    for i in range(iters):\n",
    "        \n",
    "        H = X.dot(W) + B\n",
    "        H = sigmoid(H)\n",
    "        \n",
    "        cross_entropy = -(Y.T.dot(np.log(H)).item() + (1 - Y).T.dot(np.log(1 - H))).item()/(2 * len(H))\n",
    "        cost.append(cross_entropy)\n",
    "        \n",
    "        W = W + lr*(1/len(H))*(X).T.dot(Y - H)\n",
    "        B = B + lr*(1/len(H))*np.sum(Y - H, axis = 0)\n",
    "        \n",
    "    print(f\"Weight::\\n{W}\\n\\nBias::\\n{B}\\n\")\n",
    "        \n",
    "    return W, B, cost"
   ]
  },
  {
   "cell_type": "code",
   "execution_count": 90,
   "id": "c91a6923-1e65-428c-bfc8-baa142a36cd0",
   "metadata": {},
   "outputs": [
    {
     "name": "stdout",
     "output_type": "stream",
     "text": [
      "Weight::\n",
      "[[0.16582617]]\n",
      "\n",
      "Bias::\n",
      "0.9367489954896246\n",
      "\n"
     ]
    }
   ],
   "source": [
    "W = np.random.rand(X.shape[-1], 1)\n",
    "B = np.random.rand()\n",
    "\n",
    "print(f\"Weight::\\n{W}\\n\\nBias::\\n{B}\\n\")"
   ]
  },
  {
   "cell_type": "code",
   "execution_count": 91,
   "id": "7d0b3d29-94c0-4dec-be30-fdd6a622df45",
   "metadata": {},
   "outputs": [
    {
     "name": "stdout",
     "output_type": "stream",
     "text": [
      "Weight::\n",
      "[[8.98936475]]\n",
      "\n",
      "Bias::\n",
      "[-5.85170079]\n",
      "\n"
     ]
    },
    {
     "data": {
      "text/plain": [
       "[<matplotlib.lines.Line2D at 0x11585fc10>]"
      ]
     },
     "execution_count": 91,
     "metadata": {},
     "output_type": "execute_result"
    },
    {
     "data": {
      "image/png": "[encoded data removed]",
      "text/plain": [
       "<Figure size 432x288 with 1 Axes>"
      ]
     },
     "metadata": {
      "needs_background": "light"
     },
     "output_type": "display_data"
    }
   ],
   "source": [
    "W, B, cost = grad_dscnt(X, Y, W, B, 0.01, 40000)\n",
    "plt.plot(cost)"
   ]
  },
  {
   "cell_type": "code",
   "execution_count": 92,
   "id": "54115ec9-b294-48ba-b02d-5bea34c57c60",
   "metadata": {},
   "outputs": [
    {
     "name": "stdout",
     "output_type": "stream",
     "text": [
      "Weight::\n",
      "[[8.98936475]]\n",
      "\n",
      "Bias::\n",
      "[-5.85170079]\n",
      "\n"
     ]
    }
   ],
   "source": [
    "print(f\"Weight::\\n{W}\\n\\nBias::\\n{B}\\n\")"
   ]
  },
  {
   "cell_type": "code",
   "execution_count": 97,
   "id": "ec8e412b-c2cf-4946-8fa3-71d8b48c1545",
   "metadata": {},
   "outputs": [
    {
     "data": {
      "text/plain": [
       "<matplotlib.collections.PathCollection at 0x1158b7f40>"
      ]
     },
     "execution_count": 97,
     "metadata": {},
     "output_type": "execute_result"
    },
    {
     "data": {
      "image/png": "[encoded data removed]",
      "text/plain": [
       "<Figure size 432x288 with 1 Axes>"
      ]
     },
     "metadata": {
      "needs_background": "light"
     },
     "output_type": "display_data"
    }
   ],
   "source": [
    "H = sigmoid(X.dot(W) + B)\n",
    "plt.scatter(X, H)"
   ]
  },
  {
   "cell_type": "code",
   "execution_count": 98,
   "id": "c8af5c18-4a84-4751-ab12-faec5f88da57",
   "metadata": {},
   "outputs": [],
   "source": [
    "pred = H > 0.5\n",
    "pred = pred.astype(int)"
   ]
  },
  {
   "cell_type": "code",
   "execution_count": 99,
   "id": "5bb8fd56-4b21-42e8-8d2a-86b057a3f843",
   "metadata": {},
   "outputs": [],
   "source": [
    "true = 0\n",
    "false = 0\n",
    "\n",
    "for i, j in zip(pred, Y):\n",
    "    if i == j:\n",
    "        true = true + 1\n",
    "    else:\n",
    "        false = false + 1"
   ]
  },
  {
   "cell_type": "code",
   "execution_count": 100,
   "id": "857503fc-7534-4802-b4de-9ce82df13246",
   "metadata": {},
   "outputs": [
    {
     "data": {
      "text/plain": [
       "90.85714285714286"
      ]
     },
     "execution_count": 100,
     "metadata": {},
     "output_type": "execute_result"
    }
   ],
   "source": [
    "100 * true/(true + false)"
   ]
  }
 ],
 "metadata": {
  "kernelspec": {
   "display_name": "Python 3 (ipykernel)",
   "language": "python",
   "name": "python3"
  },
  "language_info": {
   "codemirror_mode": {
    "name": "ipython",
    "version": 3
   },
   "file_extension": ".py",
   "mimetype": "text/x-python",
   "name": "python",
   "nbconvert_exporter": "python",
   "pygments_lexer": "ipython3",
   "version": "3.9.13"
  }
 },
 "nbformat": 4,
 "nbformat_minor": 5
}
